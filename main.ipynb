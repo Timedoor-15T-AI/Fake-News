{
 "cells": [
  {
   "cell_type": "code",
   "execution_count": 17,
   "metadata": {},
   "outputs": [
    {
     "data": {
      "text/html": [
       "<div>\n",
       "<style scoped>\n",
       "    .dataframe tbody tr th:only-of-type {\n",
       "        vertical-align: middle;\n",
       "    }\n",
       "\n",
       "    .dataframe tbody tr th {\n",
       "        vertical-align: top;\n",
       "    }\n",
       "\n",
       "    .dataframe thead th {\n",
       "        text-align: right;\n",
       "    }\n",
       "</style>\n",
       "<table border=\"1\" class=\"dataframe\">\n",
       "  <thead>\n",
       "    <tr style=\"text-align: right;\">\n",
       "      <th></th>\n",
       "      <th>title</th>\n",
       "      <th>text</th>\n",
       "      <th>subject</th>\n",
       "      <th>date</th>\n",
       "    </tr>\n",
       "  </thead>\n",
       "  <tbody>\n",
       "    <tr>\n",
       "      <th>0</th>\n",
       "      <td>As U.S. budget fight looms, Republicans flip t...</td>\n",
       "      <td>WASHINGTON (Reuters) - The head of a conservat...</td>\n",
       "      <td>politicsNews</td>\n",
       "      <td>December 31, 2017</td>\n",
       "    </tr>\n",
       "    <tr>\n",
       "      <th>1</th>\n",
       "      <td>U.S. military to accept transgender recruits o...</td>\n",
       "      <td>WASHINGTON (Reuters) - Transgender people will...</td>\n",
       "      <td>politicsNews</td>\n",
       "      <td>December 29, 2017</td>\n",
       "    </tr>\n",
       "    <tr>\n",
       "      <th>2</th>\n",
       "      <td>Senior U.S. Republican senator: 'Let Mr. Muell...</td>\n",
       "      <td>WASHINGTON (Reuters) - The special counsel inv...</td>\n",
       "      <td>politicsNews</td>\n",
       "      <td>December 31, 2017</td>\n",
       "    </tr>\n",
       "    <tr>\n",
       "      <th>3</th>\n",
       "      <td>FBI Russia probe helped by Australian diplomat...</td>\n",
       "      <td>WASHINGTON (Reuters) - Trump campaign adviser ...</td>\n",
       "      <td>politicsNews</td>\n",
       "      <td>December 30, 2017</td>\n",
       "    </tr>\n",
       "    <tr>\n",
       "      <th>4</th>\n",
       "      <td>Trump wants Postal Service to charge 'much mor...</td>\n",
       "      <td>SEATTLE/WASHINGTON (Reuters) - President Donal...</td>\n",
       "      <td>politicsNews</td>\n",
       "      <td>December 29, 2017</td>\n",
       "    </tr>\n",
       "  </tbody>\n",
       "</table>\n",
       "</div>"
      ],
      "text/plain": [
       "                                               title   \n",
       "0  As U.S. budget fight looms, Republicans flip t...  \\\n",
       "1  U.S. military to accept transgender recruits o...   \n",
       "2  Senior U.S. Republican senator: 'Let Mr. Muell...   \n",
       "3  FBI Russia probe helped by Australian diplomat...   \n",
       "4  Trump wants Postal Service to charge 'much mor...   \n",
       "\n",
       "                                                text       subject   \n",
       "0  WASHINGTON (Reuters) - The head of a conservat...  politicsNews  \\\n",
       "1  WASHINGTON (Reuters) - Transgender people will...  politicsNews   \n",
       "2  WASHINGTON (Reuters) - The special counsel inv...  politicsNews   \n",
       "3  WASHINGTON (Reuters) - Trump campaign adviser ...  politicsNews   \n",
       "4  SEATTLE/WASHINGTON (Reuters) - President Donal...  politicsNews   \n",
       "\n",
       "                 date  \n",
       "0  December 31, 2017   \n",
       "1  December 29, 2017   \n",
       "2  December 31, 2017   \n",
       "3  December 30, 2017   \n",
       "4  December 29, 2017   "
      ]
     },
     "execution_count": 17,
     "metadata": {},
     "output_type": "execute_result"
    }
   ],
   "source": [
    "import pandas as pd\n",
    "import seaborn as sns\n",
    "\n",
    "true = pd.read_csv('./data/True.csv')\n",
    "fake = pd.read_csv('./data/Fake.csv')\n",
    "\n",
    "true.head()\n",
    "# fake.head()"
   ]
  },
  {
   "cell_type": "code",
   "execution_count": 18,
   "metadata": {},
   "outputs": [
    {
     "data": {
      "text/html": [
       "<div>\n",
       "<style scoped>\n",
       "    .dataframe tbody tr th:only-of-type {\n",
       "        vertical-align: middle;\n",
       "    }\n",
       "\n",
       "    .dataframe tbody tr th {\n",
       "        vertical-align: top;\n",
       "    }\n",
       "\n",
       "    .dataframe thead th {\n",
       "        text-align: right;\n",
       "    }\n",
       "</style>\n",
       "<table border=\"1\" class=\"dataframe\">\n",
       "  <thead>\n",
       "    <tr style=\"text-align: right;\">\n",
       "      <th></th>\n",
       "      <th>title</th>\n",
       "      <th>text</th>\n",
       "      <th>subject</th>\n",
       "      <th>date</th>\n",
       "    </tr>\n",
       "  </thead>\n",
       "  <tbody>\n",
       "    <tr>\n",
       "      <th>23476</th>\n",
       "      <td>McPain: John McCain Furious That Iran Treated ...</td>\n",
       "      <td>21st Century Wire says As 21WIRE reported earl...</td>\n",
       "      <td>Middle-east</td>\n",
       "      <td>January 16, 2016</td>\n",
       "    </tr>\n",
       "    <tr>\n",
       "      <th>23477</th>\n",
       "      <td>JUSTICE? Yahoo Settles E-mail Privacy Class-ac...</td>\n",
       "      <td>21st Century Wire says It s a familiar theme. ...</td>\n",
       "      <td>Middle-east</td>\n",
       "      <td>January 16, 2016</td>\n",
       "    </tr>\n",
       "    <tr>\n",
       "      <th>23478</th>\n",
       "      <td>Sunnistan: US and Allied ‘Safe Zone’ Plan to T...</td>\n",
       "      <td>Patrick Henningsen  21st Century WireRemember ...</td>\n",
       "      <td>Middle-east</td>\n",
       "      <td>January 15, 2016</td>\n",
       "    </tr>\n",
       "    <tr>\n",
       "      <th>23479</th>\n",
       "      <td>How to Blow $700 Million: Al Jazeera America F...</td>\n",
       "      <td>21st Century Wire says Al Jazeera America will...</td>\n",
       "      <td>Middle-east</td>\n",
       "      <td>January 14, 2016</td>\n",
       "    </tr>\n",
       "    <tr>\n",
       "      <th>23480</th>\n",
       "      <td>10 U.S. Navy Sailors Held by Iranian Military ...</td>\n",
       "      <td>21st Century Wire says As 21WIRE predicted in ...</td>\n",
       "      <td>Middle-east</td>\n",
       "      <td>January 12, 2016</td>\n",
       "    </tr>\n",
       "  </tbody>\n",
       "</table>\n",
       "</div>"
      ],
      "text/plain": [
       "                                                   title   \n",
       "23476  McPain: John McCain Furious That Iran Treated ...  \\\n",
       "23477  JUSTICE? Yahoo Settles E-mail Privacy Class-ac...   \n",
       "23478  Sunnistan: US and Allied ‘Safe Zone’ Plan to T...   \n",
       "23479  How to Blow $700 Million: Al Jazeera America F...   \n",
       "23480  10 U.S. Navy Sailors Held by Iranian Military ...   \n",
       "\n",
       "                                                    text      subject   \n",
       "23476  21st Century Wire says As 21WIRE reported earl...  Middle-east  \\\n",
       "23477  21st Century Wire says It s a familiar theme. ...  Middle-east   \n",
       "23478  Patrick Henningsen  21st Century WireRemember ...  Middle-east   \n",
       "23479  21st Century Wire says Al Jazeera America will...  Middle-east   \n",
       "23480  21st Century Wire says As 21WIRE predicted in ...  Middle-east   \n",
       "\n",
       "                   date  \n",
       "23476  January 16, 2016  \n",
       "23477  January 16, 2016  \n",
       "23478  January 15, 2016  \n",
       "23479  January 14, 2016  \n",
       "23480  January 12, 2016  "
      ]
     },
     "execution_count": 18,
     "metadata": {},
     "output_type": "execute_result"
    }
   ],
   "source": [
    "fake.tail()"
   ]
  },
  {
   "cell_type": "code",
   "execution_count": 19,
   "metadata": {},
   "outputs": [
    {
     "data": {
      "text/html": [
       "<div>\n",
       "<style scoped>\n",
       "    .dataframe tbody tr th:only-of-type {\n",
       "        vertical-align: middle;\n",
       "    }\n",
       "\n",
       "    .dataframe tbody tr th {\n",
       "        vertical-align: top;\n",
       "    }\n",
       "\n",
       "    .dataframe thead th {\n",
       "        text-align: right;\n",
       "    }\n",
       "</style>\n",
       "<table border=\"1\" class=\"dataframe\">\n",
       "  <thead>\n",
       "    <tr style=\"text-align: right;\">\n",
       "      <th></th>\n",
       "      <th>title</th>\n",
       "      <th>text</th>\n",
       "      <th>subject</th>\n",
       "      <th>date</th>\n",
       "    </tr>\n",
       "  </thead>\n",
       "  <tbody>\n",
       "    <tr>\n",
       "      <th>21412</th>\n",
       "      <td>'Fully committed' NATO backs new U.S. approach...</td>\n",
       "      <td>BRUSSELS (Reuters) - NATO allies on Tuesday we...</td>\n",
       "      <td>worldnews</td>\n",
       "      <td>August 22, 2017</td>\n",
       "    </tr>\n",
       "    <tr>\n",
       "      <th>21413</th>\n",
       "      <td>LexisNexis withdrew two products from Chinese ...</td>\n",
       "      <td>LONDON (Reuters) - LexisNexis, a provider of l...</td>\n",
       "      <td>worldnews</td>\n",
       "      <td>August 22, 2017</td>\n",
       "    </tr>\n",
       "    <tr>\n",
       "      <th>21414</th>\n",
       "      <td>Minsk cultural hub becomes haven from authorities</td>\n",
       "      <td>MINSK (Reuters) - In the shadow of disused Sov...</td>\n",
       "      <td>worldnews</td>\n",
       "      <td>August 22, 2017</td>\n",
       "    </tr>\n",
       "    <tr>\n",
       "      <th>21415</th>\n",
       "      <td>Vatican upbeat on possibility of Pope Francis ...</td>\n",
       "      <td>MOSCOW (Reuters) - Vatican Secretary of State ...</td>\n",
       "      <td>worldnews</td>\n",
       "      <td>August 22, 2017</td>\n",
       "    </tr>\n",
       "    <tr>\n",
       "      <th>21416</th>\n",
       "      <td>Indonesia to buy $1.14 billion worth of Russia...</td>\n",
       "      <td>JAKARTA (Reuters) - Indonesia will buy 11 Sukh...</td>\n",
       "      <td>worldnews</td>\n",
       "      <td>August 22, 2017</td>\n",
       "    </tr>\n",
       "  </tbody>\n",
       "</table>\n",
       "</div>"
      ],
      "text/plain": [
       "                                                   title   \n",
       "21412  'Fully committed' NATO backs new U.S. approach...  \\\n",
       "21413  LexisNexis withdrew two products from Chinese ...   \n",
       "21414  Minsk cultural hub becomes haven from authorities   \n",
       "21415  Vatican upbeat on possibility of Pope Francis ...   \n",
       "21416  Indonesia to buy $1.14 billion worth of Russia...   \n",
       "\n",
       "                                                    text    subject   \n",
       "21412  BRUSSELS (Reuters) - NATO allies on Tuesday we...  worldnews  \\\n",
       "21413  LONDON (Reuters) - LexisNexis, a provider of l...  worldnews   \n",
       "21414  MINSK (Reuters) - In the shadow of disused Sov...  worldnews   \n",
       "21415  MOSCOW (Reuters) - Vatican Secretary of State ...  worldnews   \n",
       "21416  JAKARTA (Reuters) - Indonesia will buy 11 Sukh...  worldnews   \n",
       "\n",
       "                   date  \n",
       "21412  August 22, 2017   \n",
       "21413  August 22, 2017   \n",
       "21414  August 22, 2017   \n",
       "21415  August 22, 2017   \n",
       "21416  August 22, 2017   "
      ]
     },
     "execution_count": 19,
     "metadata": {},
     "output_type": "execute_result"
    }
   ],
   "source": [
    "true.tail()"
   ]
  },
  {
   "cell_type": "code",
   "execution_count": 20,
   "metadata": {},
   "outputs": [
    {
     "data": {
      "text/plain": [
       "title      0\n",
       "text       0\n",
       "subject    0\n",
       "date       0\n",
       "dtype: int64"
      ]
     },
     "execution_count": 20,
     "metadata": {},
     "output_type": "execute_result"
    }
   ],
   "source": [
    "true.isnull().sum()"
   ]
  },
  {
   "cell_type": "code",
   "execution_count": 21,
   "metadata": {},
   "outputs": [
    {
     "data": {
      "text/plain": [
       "title      0\n",
       "text       0\n",
       "subject    0\n",
       "date       0\n",
       "dtype: int64"
      ]
     },
     "execution_count": 21,
     "metadata": {},
     "output_type": "execute_result"
    }
   ],
   "source": [
    "fake.isnull().sum()"
   ]
  },
  {
   "cell_type": "code",
   "execution_count": 22,
   "metadata": {},
   "outputs": [
    {
     "data": {
      "text/html": [
       "<div>\n",
       "<style scoped>\n",
       "    .dataframe tbody tr th:only-of-type {\n",
       "        vertical-align: middle;\n",
       "    }\n",
       "\n",
       "    .dataframe tbody tr th {\n",
       "        vertical-align: top;\n",
       "    }\n",
       "\n",
       "    .dataframe thead th {\n",
       "        text-align: right;\n",
       "    }\n",
       "</style>\n",
       "<table border=\"1\" class=\"dataframe\">\n",
       "  <thead>\n",
       "    <tr style=\"text-align: right;\">\n",
       "      <th></th>\n",
       "      <th>title</th>\n",
       "      <th>text</th>\n",
       "      <th>subject</th>\n",
       "      <th>date</th>\n",
       "      <th>label</th>\n",
       "    </tr>\n",
       "  </thead>\n",
       "  <tbody>\n",
       "    <tr>\n",
       "      <th>23476</th>\n",
       "      <td>McPain: John McCain Furious That Iran Treated ...</td>\n",
       "      <td>21st Century Wire says As 21WIRE reported earl...</td>\n",
       "      <td>Middle-east</td>\n",
       "      <td>January 16, 2016</td>\n",
       "      <td>0</td>\n",
       "    </tr>\n",
       "    <tr>\n",
       "      <th>23477</th>\n",
       "      <td>JUSTICE? Yahoo Settles E-mail Privacy Class-ac...</td>\n",
       "      <td>21st Century Wire says It s a familiar theme. ...</td>\n",
       "      <td>Middle-east</td>\n",
       "      <td>January 16, 2016</td>\n",
       "      <td>0</td>\n",
       "    </tr>\n",
       "    <tr>\n",
       "      <th>23478</th>\n",
       "      <td>Sunnistan: US and Allied ‘Safe Zone’ Plan to T...</td>\n",
       "      <td>Patrick Henningsen  21st Century WireRemember ...</td>\n",
       "      <td>Middle-east</td>\n",
       "      <td>January 15, 2016</td>\n",
       "      <td>0</td>\n",
       "    </tr>\n",
       "    <tr>\n",
       "      <th>23479</th>\n",
       "      <td>How to Blow $700 Million: Al Jazeera America F...</td>\n",
       "      <td>21st Century Wire says Al Jazeera America will...</td>\n",
       "      <td>Middle-east</td>\n",
       "      <td>January 14, 2016</td>\n",
       "      <td>0</td>\n",
       "    </tr>\n",
       "    <tr>\n",
       "      <th>23480</th>\n",
       "      <td>10 U.S. Navy Sailors Held by Iranian Military ...</td>\n",
       "      <td>21st Century Wire says As 21WIRE predicted in ...</td>\n",
       "      <td>Middle-east</td>\n",
       "      <td>January 12, 2016</td>\n",
       "      <td>0</td>\n",
       "    </tr>\n",
       "  </tbody>\n",
       "</table>\n",
       "</div>"
      ],
      "text/plain": [
       "                                                   title   \n",
       "23476  McPain: John McCain Furious That Iran Treated ...  \\\n",
       "23477  JUSTICE? Yahoo Settles E-mail Privacy Class-ac...   \n",
       "23478  Sunnistan: US and Allied ‘Safe Zone’ Plan to T...   \n",
       "23479  How to Blow $700 Million: Al Jazeera America F...   \n",
       "23480  10 U.S. Navy Sailors Held by Iranian Military ...   \n",
       "\n",
       "                                                    text      subject   \n",
       "23476  21st Century Wire says As 21WIRE reported earl...  Middle-east  \\\n",
       "23477  21st Century Wire says It s a familiar theme. ...  Middle-east   \n",
       "23478  Patrick Henningsen  21st Century WireRemember ...  Middle-east   \n",
       "23479  21st Century Wire says Al Jazeera America will...  Middle-east   \n",
       "23480  21st Century Wire says As 21WIRE predicted in ...  Middle-east   \n",
       "\n",
       "                   date  label  \n",
       "23476  January 16, 2016      0  \n",
       "23477  January 16, 2016      0  \n",
       "23478  January 15, 2016      0  \n",
       "23479  January 14, 2016      0  \n",
       "23480  January 12, 2016      0  "
      ]
     },
     "execution_count": 22,
     "metadata": {},
     "output_type": "execute_result"
    }
   ],
   "source": [
    "true['label'] = 1\n",
    "fake['label'] = 0\n",
    "\n",
    "frames = [true.loc[:][:], fake.loc[:][:]]\n",
    "\n",
    "df = pd.concat(frames)\n",
    "\n",
    "df.tail()"
   ]
  },
  {
   "cell_type": "code",
   "execution_count": 23,
   "metadata": {},
   "outputs": [
    {
     "data": {
      "text/plain": [
       "<Axes: xlabel='label', ylabel='count'>"
      ]
     },
     "execution_count": 23,
     "metadata": {},
     "output_type": "execute_result"
    },
    {
     "data": {
      "image/png": "[encoded data removed]",
      "text/plain": [
       "<Figure size 640x480 with 1 Axes>"
      ]
     },
     "metadata": {},
     "output_type": "display_data"
    }
   ],
   "source": [
    "sns.countplot(data = df, x = 'label')"
   ]
  },
  {
   "cell_type": "code",
   "execution_count": 24,
   "metadata": {},
   "outputs": [
    {
     "data": {
      "text/plain": [
       "<Axes: xlabel='Year', ylabel='count'>"
      ]
     },
     "execution_count": 24,
     "metadata": {},
     "output_type": "execute_result"
    },
    {
     "data": {
      "image/png": "[encoded data removed]",
      "text/plain": [
       "<Figure size 640x480 with 1 Axes>"
      ]
     },
     "metadata": {},
     "output_type": "display_data"
    }
   ],
   "source": [
    "df['date'] = pd.to_datetime(df['date'], errors='coerce')\n",
    "df['Year'] = df['date'].dt.year\n",
    "df['Month'] = df['date'].dt.month\n",
    "\n",
    "sns.countplot(data = df, x = 'Year', hue ='label')"
   ]
  },
  {
   "cell_type": "code",
   "execution_count": 25,
   "metadata": {},
   "outputs": [
    {
     "data": {
      "text/plain": [
       "subject\n",
       "politicsNews       11272\n",
       "worldnews          10145\n",
       "News                9050\n",
       "politics            6841\n",
       "left-news           4459\n",
       "Government News     1570\n",
       "US_News              783\n",
       "Middle-east          778\n",
       "Name: count, dtype: int64"
      ]
     },
     "execution_count": 25,
     "metadata": {},
     "output_type": "execute_result"
    }
   ],
   "source": [
    "df.subject.value_counts()"
   ]
  },
  {
   "cell_type": "code",
   "execution_count": 26,
   "metadata": {},
   "outputs": [
    {
     "data": {
      "text/plain": [
       "<Axes: xlabel='Year', ylabel='count'>"
      ]
     },
     "execution_count": 26,
     "metadata": {},
     "output_type": "execute_result"
    },
    {
     "data": {
      "image/png": "[encoded data removed]",
      "text/plain": [
       "<Figure size 640x480 with 1 Axes>"
      ]
     },
     "metadata": {},
     "output_type": "display_data"
    }
   ],
   "source": [
    "sns.countplot(data = df, x = 'Year', hue =\"subject\")"
   ]
  },
  {
   "cell_type": "code",
   "execution_count": 27,
   "metadata": {},
   "outputs": [],
   "source": [
    "frames = [true.head(200), fake.head(200)]\n",
    "df = pd.concat(frames)\n",
    "X = df.drop('label', axis = 1)\n",
    "y = df['label']"
   ]
  },
  {
   "cell_type": "code",
   "execution_count": 28,
   "metadata": {},
   "outputs": [
    {
     "data": {
      "text/html": [
       "<div>\n",
       "<style scoped>\n",
       "    .dataframe tbody tr th:only-of-type {\n",
       "        vertical-align: middle;\n",
       "    }\n",
       "\n",
       "    .dataframe tbody tr th {\n",
       "        vertical-align: top;\n",
       "    }\n",
       "\n",
       "    .dataframe thead th {\n",
       "        text-align: right;\n",
       "    }\n",
       "</style>\n",
       "<table border=\"1\" class=\"dataframe\">\n",
       "  <thead>\n",
       "    <tr style=\"text-align: right;\">\n",
       "      <th></th>\n",
       "      <th>index</th>\n",
       "      <th>title</th>\n",
       "      <th>text</th>\n",
       "      <th>subject</th>\n",
       "      <th>date</th>\n",
       "      <th>label</th>\n",
       "    </tr>\n",
       "  </thead>\n",
       "  <tbody>\n",
       "    <tr>\n",
       "      <th>395</th>\n",
       "      <td>195</td>\n",
       "      <td>Nursing Textbooks Recalled And Apology Issued...</td>\n",
       "      <td>Pearson, an educational publishing company, is...</td>\n",
       "      <td>News</td>\n",
       "      <td>October 23, 2017</td>\n",
       "      <td>0</td>\n",
       "    </tr>\n",
       "    <tr>\n",
       "      <th>396</th>\n",
       "      <td>196</td>\n",
       "      <td>Trump SCREAMS On Twitter After Seeing A Poll ...</td>\n",
       "      <td>Rex Tillerson was right. Donald Trump is a f*c...</td>\n",
       "      <td>News</td>\n",
       "      <td>October 22, 2017</td>\n",
       "      <td>0</td>\n",
       "    </tr>\n",
       "    <tr>\n",
       "      <th>397</th>\n",
       "      <td>197</td>\n",
       "      <td>Trump And John Kelly Just Got RIPPED APART By...</td>\n",
       "      <td>Donald Trump and his disgraceful team deserve ...</td>\n",
       "      <td>News</td>\n",
       "      <td>October 21, 2017</td>\n",
       "      <td>0</td>\n",
       "    </tr>\n",
       "    <tr>\n",
       "      <th>398</th>\n",
       "      <td>198</td>\n",
       "      <td>NRA Releases Fascist Ad Calling All Trump Cri...</td>\n",
       "      <td>The First Amendment of the United States Const...</td>\n",
       "      <td>News</td>\n",
       "      <td>October 21, 2017</td>\n",
       "      <td>0</td>\n",
       "    </tr>\n",
       "    <tr>\n",
       "      <th>399</th>\n",
       "      <td>199</td>\n",
       "      <td>Trump Takes Credit For Releasing JFK Files, B...</td>\n",
       "      <td>Saturday morning, Trump was going through his ...</td>\n",
       "      <td>News</td>\n",
       "      <td>October 21, 2017</td>\n",
       "      <td>0</td>\n",
       "    </tr>\n",
       "  </tbody>\n",
       "</table>\n",
       "</div>"
      ],
      "text/plain": [
       "     index                                              title   \n",
       "395    195   Nursing Textbooks Recalled And Apology Issued...  \\\n",
       "396    196   Trump SCREAMS On Twitter After Seeing A Poll ...   \n",
       "397    197   Trump And John Kelly Just Got RIPPED APART By...   \n",
       "398    198   NRA Releases Fascist Ad Calling All Trump Cri...   \n",
       "399    199   Trump Takes Credit For Releasing JFK Files, B...   \n",
       "\n",
       "                                                  text subject   \n",
       "395  Pearson, an educational publishing company, is...    News  \\\n",
       "396  Rex Tillerson was right. Donald Trump is a f*c...    News   \n",
       "397  Donald Trump and his disgraceful team deserve ...    News   \n",
       "398  The First Amendment of the United States Const...    News   \n",
       "399  Saturday morning, Trump was going through his ...    News   \n",
       "\n",
       "                 date  label  \n",
       "395  October 23, 2017      0  \n",
       "396  October 22, 2017      0  \n",
       "397  October 21, 2017      0  \n",
       "398  October 21, 2017      0  \n",
       "399  October 21, 2017      0  "
      ]
     },
     "execution_count": 28,
     "metadata": {},
     "output_type": "execute_result"
    }
   ],
   "source": [
    "df = df.dropna()\n",
    "df2 = df.copy()\n",
    "df2.reset_index(inplace=True)\n",
    "df2.tail()"
   ]
  },
  {
   "cell_type": "code",
   "execution_count": 29,
   "metadata": {},
   "outputs": [
    {
     "name": "stderr",
     "output_type": "stream",
     "text": [
      "[nltk_data] Downloading package stopwords to\n",
      "[nltk_data]     C:\\Users\\brian\\AppData\\Roaming\\nltk_data...\n",
      "[nltk_data]   Package stopwords is already up-to-date!\n"
     ]
    }
   ],
   "source": [
    "from nltk.corpus import stopwords\n",
    "from nltk.stem.porter import PorterStemmer\n",
    "import re\n",
    "import nltk\n",
    "\n",
    "nltk.download('stopwords')\n",
    "ps = PorterStemmer()\n",
    "corpus = []\n",
    "\n",
    "for i in range(0, len(df2)):\n",
    "    review = re.sub('[^a-zA-Z]', ' ', df2['title'][i]) # regex\n",
    "    review = review.lower()\n",
    "    review = review.split() # split into list\n",
    "    review = [ps.stem(word) for word in review\n",
    "              if not word in stopwords.words('english')]\n",
    "    review = ' '.join(review)\n",
    "    corpus.append(review)"
   ]
  },
  {
   "cell_type": "code",
   "execution_count": 30,
   "metadata": {},
   "outputs": [
    {
     "name": "stdout",
     "output_type": "stream",
     "text": [
      "['u budget fight loom republican flip fiscal script', 'u militari accept transgend recruit monday pentagon', 'senior u republican senat let mr mueller job', 'fbi russia probe help australian diplomat tip nyt', 'trump want postal servic charg much amazon shipment', 'white hous congress prepar talk spend immigr', 'trump say russia probe fair timelin unclear nyt', 'factbox trump twitter dec approv rate amazon', 'trump twitter dec global warm', 'alabama offici certifi senat elect jone today despit challeng cnn', 'jone certifi u senat winner despit moor challeng', 'new york governor question constitution feder tax overhaul', 'factbox trump twitter dec vaniti fair hillari clinton', 'trump twitter dec trump iraq syria', 'man say deliv manur mnuchin protest new u tax law', 'virginia offici postpon lotteri draw decid tie statehous elect', 'u lawmak question businessman trump tower meet sourc', 'trump twitter dec hillari clinton tax cut bill', 'u appeal court reject challeng trump voter fraud panel', 'treasuri secretari mnuchin sent gift wrap box hors manur report', 'feder judg partial lift trump latest refuge restrict', 'exclus u memo weaken guidelin protect immigr children court', 'trump travel ban appli peopl strong u tie court', 'second court reject trump bid stop transgend militari recruit', 'fail vote oust presid shake peru polit', 'trump sign tax govern spend bill law', 'compani year new u tax bill report sec', 'trump twitter dec tax cut missil defens bill', 'mexico review need tax chang u reform document', 'senat leader mcconnel see collegi', 'alabama certifi democrat jone winner senat elect', 'mcconnel happier trump tweet tax victori', 'hous panel ask trump ex top aid bannon testifi bloomberg', 'callista gingrich becom trump envoy pope differ mount', 'republican aim ride economi elect victori warn voter key district', 'exclus state depart tell refuge agenc downsiz u oper', 'congress vote avert shutdown send trump stopgap spend bill', 'factbox big ticket item center congress spend bill', 'victori trump judg toss suit foreign payment', 'senat shelv disast aid bill next month', 'trump twitter dec tax cut home sale', 'hous widen ethic probe includ farenthold campaign work', 'u court reject trump bid stop transgend militari recruit jan', 'u hous approv billion disast aid', 'hous democrat ralli protect special counsel mueller', 'second u judg block trump administr birth control rule', 'senat seek stop expans airport facial scan', 'u launch effort reduc relianc import critic miner', 'short term govern fund disast aid bill advanc hous', 'spi chief pressur congress renew expir surveil law', 'trump urg congress pass short term spend bill', 'hous give final approv tax bill deliv victori trump', 'u tax plan roil popular bet bond market', 'u lawmak seek temporari extens internet spi program', 'trump commut fraud sentenc kosher meatpack', 'u respond court fight illeg indonesian immigr', 'democrat franken leav senat januari', 'u lawmak seek temporarili extens internet spi program', 'top democrat say trump fire mueller could provok constitut crisi', 'u tax bill may face lawsuit long odd polit payoff', 'vote senat dreamer hing bipartisan pact mcconnel', 'white hous say tax bill hurt puerto rico', 'democrat plan use tax bill attack republican midterm', 'rule virginia legislatur major chosen lot', 'fight alaska arctic drill begun oppon vow', 'senat cornyn tri get big corn behind u biofuel reform', 'georgia battl stacey test democrat futur', 'democrat win one vote virginia legisl elect recount', 'fbi deputi director sit close interview hous panel', 'white hous expect congress waiv spend cut trigger tax overhaul', 'trump twitter dec tax bill', 'final republican tax bill', 'trump market fulli digest tax cut chang', 'white hous aid see temporari fund fix children health program', 'tax bill pass rule aid wealthi worker critic', 'u tax cut make hous afford analyst', 'bank healthcar servic firm among winner u tax bill', 'trump suprem court appointe gorsuch plot rightward cours', 'republican seek question fbi offici clinton probe letter', 'trump aid hope win tax stem slide poll number', 'congress face tricki path avoid govern shutdown', 'factbox big ticket item center congress fund battl', 'senat parliamentarian rule tax bill provis sander', 'senat panel snub trump pick run exim ok nomine', 'hous like need vote tax bill republican leader', 'instant view hous approv biggest tax overhaul year senat next', 'senat begin debat final republican tax bill', 'bill could make congress member liabl harass payout', 'green group sue trump administr delay methan rule', 'hous democrat leader urg vote spend bill cnn report', 'penc presid senat tax bill vote offic confirm', 'senat vote final tax bill tuesday even mcconnel', 'republican appear certain pass tax legisl', 'court order trump administr give immigr teen abort access', 'hous plan would increas trump disast aid request', 'hous panel chair introduc billion disast aid bill', 'trump nomin liberti univers professor justic depart post', 'trump twitter dec congression race train accid tax cut', 'trump cabinet offici visit puerto rico assess recoveri', 'dreamer immigr bill u senat agenda month', 'senat warren hit effort politic u consum agenc', 'trump strategi document say russia meddl domest affair worldwid', 'republican senat collin say vote tax bill', 'democrat u senat seek audit epa chief trip morocco', 'republican senat lee say vote tax bill', 'trump u choic deal north korea arm challeng', 'trump judici nomine withdraw consider', 'trump call u infrastructur plan train derail', 'final republican tax bill slash u corpor rate vote next week', 'factbox final u republican tax bill', 'trump defend tax plan great christma gift middl class', 'hous vote tax bill tuesday afternoon aid', 'white hous optimist congress avoid govern shutdown', 'u taxpay rush claim deduct threat tax bill', 'republican confid tax bill becom law week', 'republican senat john mccain leav washington expect tax vote', 'trump say consid fire u special counsel mueller', 'trump alli say mueller unlaw obtain thousand email', 'senat elect jone join call trump resign', 'trump administr ban select word health agenc paper', 'congressman seek relect amid misconduct probe', 'trump say secur speech china competitor offici', 'factbox trump twitter decemb quantico', 'republican tax bill retain u electr vehicl tax credit', 'attorney gener session lukewarm prais fbi trump attack', 'senat democrat forc vote fcc net neutral repeal', 'u lawmak probe sex report second congressman deni charg', 'republican join push lift secreci around misconduct congress', 'trump offici brief hill staff saudi reactor enrich worri', 'u judg lift hous arrest former trump campaign manag manafort', 'republican senat corker say support tax bill', 'rubio signal support tax bill child tax credit tweak', 'u tax negoti rais refund portion child tax credit congresswoman', 'republican final compromis u tax bill chief hous tax writer', 'republican senat rubio back tax bill cnbc cite sourc', 'exclus senat cruz want cap renew fuel credit cent document', 'trump administr issu new rule u visa waiver', 'trump urg moor conced alabama senat race', 'net neutral repeal give democrat fresh way reach millenni', 'republican tax vote near senat waver', 'factbox trump twitter decemb stock market feder regul', 'hous committe question head trump campaign data firm sourc', 'republican governor meet penc nafta concern', 'factbox provis u republican final tax bill', 'hous speaker ryan mull retir elect politico', 'republican repres farenthold seek elect', 'alabama senat race winner urg republican rival move', 'fund manag seek stock benefit democrat gain u elect', 'factbox republican keep eye senat near vote tax bill', 'republican hous speaker ryan told trump retir report rumor true white hous', 'white hous say work rubio child tax credit', 'republican senat lee undecid tax bill seek child credit chang aid', 'u tax bill preserv key renew energi credit sourc say', 'u bill allow properti incom sale tax deduct key lawmak', 'senat mccain vote tax bill republican', 'nomine u epa chemic safeti withdraw bloomberg', 'senat burr tilli oppos trump epa nomine dourson report', 'penc delay middl east trip case need u tax vote', 'kentucki lawmak probabl suicid amid sexual misconduct accus', 'mulvaney say u tax bill vote could tuesday wednesday cnbc', 'donald trump jr want leak probe congress russia probe press', 'expect postcard size tax return republican plan expert', 'republican forg tax deal final vote seen next week', 'alabama win thrill democrat republican point finger', 'trump eldest son testifi senat committe russia probe', 'republican final tax bill', 'factbox u republican final tax bill', 'minnesota lieuten governor replac franken senat', 'stop gap bill unveil fund u govern jan', 'senior justic offici dismiss republican charg bia trump probe', 'senat mccain treat side effect cancer therapi', 'trump dossier firm republican leak bank record retali', 'two trump judici nomin rebuf senat', 'u prepar open door billion dollar london embassi', 'elabor hoax websit say nfl redskin renam redhawk', 'alabama upset democrat see new prospect u south', 'schumer delay tax overhaul vote new alabama senat seat', 'republican senat corker say still undecid tax bill', 'control virginia state hous stake recount begin', 'trump say would accept percent corpor tax rate', 'hous senat reach deal u tax legisl hatch', 'u hous stop use public fund harass settlement speaker', 'u hous senat leader reach agreement principl tax plan ap', 'white hous aid omarosa manigault newman resign', 'analyst view democrat jone win alabama u senat seat blow trump', 'top u senat democrat hope congress help dreamer year end', 'senat gillibrand call trump twitter post sexist smear', 'trump lose big bet alabama u senat race', 'fbi offici said clinton win race white hous nyt', 'trump congratul democrat alabama u senat victori tweet', 'prayer principl guid women voter roy moor alabama hometown', 'democrat win u senat seat alabama setback trump', 'factbox trump twitter decemb democrat kirsten gillibrand chuck schumer', 'crucial detail republican tax plan flux deal deadlin loom', 'tillerson seek eas skeptic u state depart reorgan', 'trump meet hous senat tax cut negoti wednesday white hous', 'republican propos delay paus obamacar tax', 'trump sign law u govern ban kasperski lab softwar', 'senat grassley express reserv two trump judg nomine', 'u judg order special counsel turn evid michael flynn', 'donald trump send embarrass new year eve messag disturb', 'drunk brag trump staffer start russian collus investig', 'sheriff david clark becom internet joke threaten poke peopl eye', 'trump obsess even obama name code websit imag', 'pope franci call donald trump christma speech', 'racist alabama cop brutal black boy handcuff graphic imag', 'fresh golf cours trump lash fbi deputi director jame comey', 'trump said insan racist stuff insid oval offic wit back', 'former cia director slam trump un bulli openli suggest act like dictat tweet', 'watch brand new pro trump ad featur much kiss make sick', 'papa john founder retir figur racism bad busi', 'watch paul ryan told us care struggl famili live blue state', 'bad news trump mitch mcconnel say repeal obamacar', 'watch lindsey graham trash media portray trump kooki forget word', 'heiress disney empir know gop scam us shred tax bill', 'tone deaf trump congrat rep scalis lose weight almost die', 'internet brutal mock disney new trump robot hall presid', 'mueller spokesman f cked donald trump christma', 'snl hilari mock accus child molest roy moor lose al senat race video', 'republican senat get drag go robert mueller', 'heartless rebuk victim trump invit nra xma parti sandi hook anniversari', 'ky gop state rep commit suicid alleg molest teen girl detail', 'meghan mccain tweet amaz respons doug jone win deep red alabama', 'cnn call democrat repres alabama senat first time year', 'white hous sexist trump slut shame sen kirsten gillibrand video', 'despic trump suggest femal senat would anyth campaign money tweet', 'accus child molest senat candid roy moor side putin reagan video', 'watch fox host call cleans fbi arrest everyon investig trump', 'liber group troll trump roy moor ralli best possibl way video', 'jr tri mock al franken resign backfir immedi', 'break cop final get due walter scott killer sentenc prison detail', 'watch proof trump unfit servic', 'trump complet screw middl east peac process anoth wednesday', 'trump care trump recogn jerusalem today', 'watch trump support coal ceo upset trump wipe thousand coal mine job', 'sit gop senat enough donat alabama democrat senat imag', 'republican nation committe better pedophil democrat u senat', 'donald trump eat habit could dramat affect wellb safeti', 'john mccain want anoth twitter follow plan backfir miser tweet', 'sarah huckabe sander tweet attack fbi age well', 'fbi agent destroy donald trump attack agenc jame comey', 'ghost wit flip hilari snl skit take trump privat holiday hell video', 'leak email prove trump offici awar russia thrown usa elect trump', 'trump admit knew flynn lie fbi ask comey drop investig', 'watch awesom mashup michael flynn lead lock chant goe court video', 'white hous panic know flynn go take', 'break michael flynn crack testifi mueller trump', 'trump get epic f ck britain white supremacist retweet', 'hilari campaign ad show voter avoid scandal elect offici', 'joe scarborough imagin trump realli lose mind video', 'sourc confirm robert mueller offic interview jare kushner sever week ago', 'trump send crazi time tweet wrong account lose sh world leader remark', 'american elect presid accus rape year old girl', 'trump biggest kkk fan back love anti muslim tweet morn', 'trump spent night retweet white supremacist convict crimin', 'sean hanniti throw stage temper tantrum photo pose imag', 'democrat give trump big f ck attack insan twitter rant', 'trump wake scream black peopl hurl racial slur yesterday', 'trump support object princ harri recent engag terribl reason tweet', 'honor nativ american code talker trump call elizabeth warren pocahonta video', 'pro trump group use pictur obama ralli make trump look popular', 'breitbart editor cnn host song ringo starr prove roy moor pedo video', 'former obama photograph take troll trump whole new level tweet', 'back golf vacay trump say done presid ever', 'two week elect trump still defend accus child molest tax', 'principl power republican need right remain relev', 'trump everyth heard say access hollywood tape never happen', 'cnn blister trump attack bad represent job tweet', 'sean hanniti get wreck yell time magazin call trump lie', 'time magazin humili trump lie award', 'ivanka defend malia obama attack dad fan stop look like baboon', 'trumpster launch insan conspiraci theori boot john mccain foot', 'gay gop oper endors doug jone bigot deviant roy moor senat race video', 'watch retir alabama cop told keep roy moor away high school cheerlead', 'new york time report actual russian agent congress code name', 'fox news ban gene simmon life harass staff camera', 'watch nicol wallac take trump woodsh back pedophil moor', 'pastor goe full qaeda defend roy moor want teen girl puriti', 'trump nation secur advis reportedli trash epic', 'trump favorit news channel tri sooth batter ego get taken cleaner', 'texa governor broke trump unpreced', 'conserv christian leader kept sexual assault secret republican lawmak', 'gop senat caught hot mic trash parti roy moor donald trump video', 'donald trump destroy countri reput proof', 'trump got p ssi hand new zealand femal prime minist', 'chao ensu man accident shoot wife church gun safeti talk', 'new accus confirm got roy moor ban mall video', 'roy moor ask peopl snitch media get troll hard tweet', 'trump admin toss anoth obama rule son even wors douchebag', 'internet light pentagon accident retweet call trump resign', 'anti gay gop rep get bust inappropri relat man state offic', 'time trump mock marco rubio drink water came back haunt', 'watch corpor ceo shock trump econom advis truth gop tax cut', 'texa sheriff threaten jail truck owner anti trump sticker screenshot', 'watch delusion trump fan lash fox host report fact uranium one deal', 'roy moor support republican lose call extremist', 'stori trump told press obama air forc one never happen', 'year old tweet donald trump show us least pervert roy moor', 'oop trump judici nomine tell congress marriag white hous attorney', 'trump laugh philippin leader call journalist spi countri journalist routin murder', 'watch joe biden wreck trump six word hilari', 'bust leak document prove trump took launder money russian bank', 'pervert gop state rep corner lobbyist tri forc help rage b ner', 'roy moor former colleagu knew like date teenag girl', 'watch christian right founder condemn support nazi sexual misconduct', 'conserv christian leader defend pedophil gop candid roy moor', 'trump throw intellig commun bu side putin despit strong evid russian meddl', 'old mike penc tweet sure uncomfort g maga mean grope', 'sean hanniti said child molest ok consensu video', 'newsweek made best cover ever peopl freak', 'alabama republican defend pedophilia use bibl', 'gop senat candid turn disgust child molest', 'senat democrat sneak around behind gop back unravel trump administr', 'sunday massacr texa bump columbin top ten deadliest us mass shoot', 'sean hanniti bare spend second last night drub revisit trump victori instead', 'main voter tell trump go f ck expand medicaid obamacar', 'watch rick santorum torch trump take respons elector bloodbath', 'trump seeth humili virginia elect throw ed gillespi bu', 'resist gave trump huge f ck elect night', 'trump justic dept realiz prosecut woman laugh stupid drop case entir', 'trump jr goe full dumba twitter promot wrong day virginia elect', 'trump openli call third world war video', 'oop trump agre peopl like treat harshli milk countri', 'miss texa gave unexpect answer ask trump republican furiou', 'trump tri make facebook give person info peopl critic', 'multipl wit confirm pee pee tape real', 'fox news complet transform safe space fragil snowflakey donald trump', 'trump tell japanes diplomat never knew mani countri world', 'latest conserv god answer victim prayer let get shot', 'univers texa polic kick humili nazi campu could start troubl', 'russian lawyer drop bomb donald trump jr alleg direct pay play attempt', 'watch republican lawmak claim forc women babi help economi', 'someon tri cash antifa jacket twitter field day', 'senat deliv scath rebuk gop colleagu one safe', 'remind much nra spent trump wake anoth mass shoot', 'peopl murder texa mass shoot trump respons classic racist', 'trump went japan immedi prove know zilch missil work', 'wall close trump disgrac nation secur advis face indict team mueller', 'former waterg prosecutor mueller could gag trump russia', 'gop lawmak link abort economi one bizarr horribl offens rant video', 'hawaiian perfect sign infuri trump land', 'trump want suprem court punish lawyer win case administr', 'hypocrit ivanka trump humili call end sexual harass predat dad japan', 'pull nfl relat ad papa john get unlik sponsor nazi', 'mike penc get special gift offic mail everi month probabl burn video', 'two word gop congressman admit answer constitu', 'one hero made donald trump panic made twitter celebr detail', 'sarah huckabe sander shred l time truth twist brilliant', 'trump energi secretari idea stop sexual assault insan', 'jeff session oh mean russian contact rememb', 'alt right white hous report get fool fake tweet report upcom civil war', 'papa john attack nfl first amend sh tti pizza lose small fortun', 'trump liter sabotag case nyc terrorist keep mouth shut', 'reason littl known trump aid danger trump paul manafort', 'former ambassador accus trump violat constitut everi time diplomat visit', 'trump throw jare kushner bu mueller indict', 'russian fool dumbass conserv meme hillari fistfight jesu', 'chuck schumer nuke trump blame terrorist attack', 'watch gop senat almost knock american flag dodg indict question video', 'watch trump chief staff john kelli admit think anyth wrong slaveri', 'legal commun school trump lawyer claim collus crime', 'watch hanniti lose sh refer hillari presid clinton unhing rant', 'seth meyer sum monday event perfectli video', 'hanniti tweet like knife back trump', 'sh tti birthday must ivanka trump', 'guilti hell paul manafort rick gate enter guilti plea russian collus scandal tweet video', 'fox news consid news everyon els cover indict trump camp manag', 'racist head explod find white white crime higher', 'mccain best laugh year ask donald trump', 'attempt trump pardon anyon indict mueller could backfir big way', 'need trump move fire mueller shut russia probe', 'number state insur liter say obamacar trainwreck trump fault', 'hillari hilari rib fox host insan obsess impeach video', 'internet wreck tomi lahren halloween costum violat u flag code', 'someth trump panic mueller investig close', 'hillari clinton total rub indict rumor trump big orang face screenshot', 'twitter ban major trump alli threaten journalist screenshot', 'look way irrit trump tip imag', 'break first charg file mueller russia investig', 'trump puerto rico contract two man energi compani corrupt f ck', 'watch former white hous offici suggest hanniti hillari clinton execut', 'trump close offic coordin russia sanction', 'yet anoth asshol ram bunch protest car video', 'judg bar mom see babi year unpaid fee resign', 'trump got ban place propos melania', 'john lewi perfect birthday messag hillari trump furiou tweet', 'milo yiannopoulo tell aussi vote marriag equal week gay wed', 'trump ice thug stop ambul take year old girl cerebr palsi surgeri', 'alt right trump lover lose sh kill dad call nazi', 'watch amazingli awar compani creat brilliant way document trump danger tweet', 'melania trump hit seriou side eye tell black kid respect', 'trump wet pant bob corker corker alert white hous daycar staff', 'gop senat candid say kid murder sandi hook god angri', 'watch john mccain mock presid bone spur draft defer', 'soldier widow final speak made cri even trump call liar immedi', 'nurs textbook recal apolog issu racial stereotyp relat pain manag', 'trump scream twitter see poll fox news', 'trump john kelli got rip apart medal honor recipi video', 'nra releas fascist ad call trump critic saboteur whose futur failur video', 'trump take credit releas jfk file bill requir pass year ago']\n"
     ]
    }
   ],
   "source": [
    "print(corpus)"
   ]
  },
  {
   "cell_type": "code",
   "execution_count": 31,
   "metadata": {},
   "outputs": [
    {
     "data": {
      "text/plain": [
       "array([[0.        , 0.        , 0.        , ..., 0.        , 0.        ,\n",
       "        0.        ],\n",
       "       [0.        , 0.41832748, 0.        , ..., 0.        , 0.        ,\n",
       "        0.        ],\n",
       "       [0.        , 0.        , 0.        , ..., 0.        , 0.        ,\n",
       "        0.        ],\n",
       "       ...,\n",
       "       [0.        , 0.        , 0.        , ..., 0.        , 0.        ,\n",
       "        0.        ],\n",
       "       [0.        , 0.        , 0.        , ..., 0.        , 0.        ,\n",
       "        0.        ],\n",
       "       [0.        , 0.        , 0.        , ..., 0.        , 0.        ,\n",
       "        0.        ]])"
      ]
     },
     "execution_count": 31,
     "metadata": {},
     "output_type": "execute_result"
    }
   ],
   "source": [
    "from sklearn.feature_extraction.text import TfidfVectorizer\n",
    "\n",
    "tfidf_v = TfidfVectorizer()\n",
    "X = tfidf_v.fit_transform(corpus).toarray()\n",
    "y = df2['label']\n",
    "X"
   ]
  },
  {
   "cell_type": "code",
   "execution_count": 32,
   "metadata": {},
   "outputs": [],
   "source": [
    "from sklearn.model_selection import train_test_split\n",
    "\n",
    "X_train, X_test, y_train, y_test = train_test_split(X, y, test_size=0.2, random_state=0)"
   ]
  },
  {
   "cell_type": "code",
   "execution_count": 33,
   "metadata": {},
   "outputs": [
    {
     "name": "stdout",
     "output_type": "stream",
     "text": [
      "accuracy:   0.800\n"
     ]
    }
   ],
   "source": [
    "from sklearn.linear_model import LogisticRegression\n",
    "from sklearn import metrics\n",
    "\n",
    "classifier = LogisticRegression()\n",
    "classifier.fit(X_train, y_train)\n",
    "pred = classifier.predict(X_test)\n",
    "score = metrics.accuracy_score(y_test, pred)\n",
    "print(\"accuracy:   %0.3f\" % score)"
   ]
  },
  {
   "cell_type": "code",
   "execution_count": 34,
   "metadata": {},
   "outputs": [
    {
     "data": {
      "text/plain": [
       "Text(0.5, 1.0, 'Confusion Matrix')"
      ]
     },
     "execution_count": 34,
     "metadata": {},
     "output_type": "execute_result"
    },
    {
     "data": {
      "image/png": "[encoded data removed]",
      "text/plain": [
       "<Figure size 640x480 with 2 Axes>"
      ]
     },
     "metadata": {},
     "output_type": "display_data"
    }
   ],
   "source": [
    "from sklearn.metrics import ConfusionMatrixDisplay\n",
    "disp = ConfusionMatrixDisplay.from_estimator(classifier, X_test, y_test)\n",
    "\n",
    "disp.ax_.set_title('Confusion Matrix')"
   ]
  },
  {
   "cell_type": "code",
   "execution_count": 35,
   "metadata": {},
   "outputs": [],
   "source": [
    "import pickle\n",
    "\n",
    "pickle.dump(classifier, open('model2.pkl', 'wb'))\n",
    "pickle.dump(tfidf_v, open('tfidfvect2.pkl', 'wb'))"
   ]
  },
  {
   "cell_type": "code",
   "execution_count": 36,
   "metadata": {},
   "outputs": [],
   "source": [
    "def predict(text):\n",
    "    review = re.sub('[^a-zA-Z]', ' ', df2['title'][i]) # regex\n",
    "    review = review.lower()\n",
    "    review = review.split() # split into list\n",
    "    review = [ps.stem(word) for word in review\n",
    "              if not word in stopwords.words('english')]\n",
    "    review = ' '.join(review)\n",
    "    review_vect = tfidf_v.transform([review]).toarray()\n",
    "    prediction = 'FAKE' if classifier.predict(review_vect)[0] == 0 else 'REAL'\n",
    "\n",
    "    return prediction"
   ]
  },
  {
   "cell_type": "code",
   "execution_count": 37,
   "metadata": {},
   "outputs": [
    {
     "name": "stdout",
     "output_type": "stream",
     "text": [
      "FAKE\n"
     ]
    }
   ],
   "source": [
    "text = \"Former President Donald Trump on Tuesday launched a new communications platform, which will eventually give him the ability to communicate directly with his followers, after months of being banned from sites like Twitter and Facebook.\"\n",
    "prediction = predict(text)\n",
    "print(prediction)"
   ]
  }
 ],
 "metadata": {
  "kernelspec": {
   "display_name": ".venv",
   "language": "python",
   "name": "python3"
  },
  "language_info": {
   "codemirror_mode": {
    "name": "ipython",
    "version": 3
   },
   "file_extension": ".py",
   "mimetype": "text/x-python",
   "name": "python",
   "nbconvert_exporter": "python",
   "pygments_lexer": "ipython3",
   "version": "3.10.0"
  },
  "orig_nbformat": 4
 },
 "nbformat": 4,
 "nbformat_minor": 2
}
